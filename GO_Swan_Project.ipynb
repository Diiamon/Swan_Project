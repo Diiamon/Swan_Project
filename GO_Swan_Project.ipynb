{
 "cells": [
  {
   "cell_type": "code",
   "execution_count": null,
   "id": "55ed165a-9127-427e-9271-3ef12a6c0e9d",
   "metadata": {
    "tags": []
   },
   "outputs": [],
   "source": [
    "import numpy as np\n",
    "import seaborn as sns\n",
    "import matplotlib.pyplot as plt\n",
    "import pandas as pd\n",
    "\n",
    "from sklearn import metrics\n",
    "from time import time\n",
    "\n",
    "\n",
    "from sklearn.tree import DecisionTreeClassifier\n",
    "from sklearn.model_selection import train_test_split, cross_val_score, GridSearchCV\n",
    "from sklearn.metrics import confusion_matrix, accuracy_score\n",
    "\n",
    "\n",
    "from sklearn.ensemble import BaggingClassifier\n",
    "from sklearn.ensemble import RandomForestClassifier, ExtraTreesClassifier"
   ]
  },
  {
   "cell_type": "code",
   "execution_count": null,
   "id": "7ba105e3-6cf5-4346-a397-daaf2555fe10",
   "metadata": {},
   "outputs": [],
   "source": [
    "df= pd.read_csv('1_-_Project_Data.csv')"
   ]
  },
  {
   "cell_type": "code",
   "execution_count": null,
   "id": "b2ca0b58-f9dd-403c-92e2-101e17a061e7",
   "metadata": {
    "tags": []
   },
   "outputs": [],
   "source": [
    "pd.set_option('display.max_columns', None)"
   ]
  },
  {
   "cell_type": "code",
   "execution_count": null,
   "id": "3984232e-5537-4a4d-9ea8-1c15cb8088fb",
   "metadata": {
    "tags": []
   },
   "outputs": [],
   "source": [
    "df.head()"
   ]
  },
  {
   "cell_type": "code",
   "execution_count": null,
   "id": "af971d82-bf49-4311-bb35-1103eb63b95e",
   "metadata": {
    "tags": []
   },
   "outputs": [],
   "source": [
    "df.shape"
   ]
  },
  {
   "cell_type": "code",
   "execution_count": null,
   "id": "3d5efad0-095e-4235-93a9-5a4784355c7d",
   "metadata": {
    "tags": []
   },
   "outputs": [],
   "source": [
    "df.info()"
   ]
  },
  {
   "cell_type": "code",
   "execution_count": null,
   "id": "53fdceb3-a9c5-4a71-88f3-2a726c37ac56",
   "metadata": {
    "tags": []
   },
   "outputs": [],
   "source": [
    "for x in list(df.columns):\n",
    "    print(x)\n",
    "    print(df[x].unique())"
   ]
  },
  {
   "cell_type": "code",
   "execution_count": null,
   "id": "4db93341-c6e4-4eff-b405-ebb3586be2af",
   "metadata": {
    "tags": []
   },
   "outputs": [],
   "source": [
    "def cleaning_fct(df):\n",
    "    df['Gender'] = df['Gender'].map({'Female':0, 'Male':1})\n",
    "    df['Senior Citizen'] = df['Senior Citizen'].map({'No':0, 'Yes':1})\n",
    "    df['Partner'] = df['Partner'].map({'No':0, 'Yes':1})\n",
    "    df['Dependents'] = df['Dependents'].map({'No':0, 'Yes':1})\n",
    "    df['Phone Service'] = df['Phone Service'].map({'No':0, 'Yes':1})\n",
    "    df['Multiple Lines'] = df['Multiple Lines'].map({'No':0, 'Yes':1, 'No phone service':2})\n",
    "    df['Internet Service'] = df['Internet Service'].map({'DSL':0, 'Fiber optic':1, 'No':2})\n",
    "    df['Online Security'] = df['Online Security'].map({'No':0, 'Yes':1, 'No internet service':2})\n",
    "    df['Online Backup'] = df['Online Backup'].map({'No':0, 'Yes':1, 'No internet service':2})\n",
    "    df['Device Protection'] = df['Device Protection'].map({'No':0, 'Yes':1, 'No internet service':2})\n",
    "    df['Tech Support'] = df['Tech Support'].map({'No':0, 'Yes':1, 'No internet service':2})\n",
    "    df['Streaming TV'] = df['Streaming TV'].map({'No':0, 'Yes':1, 'No internet service':2})\n",
    "    df['Streaming Movies'] = df['Streaming Movies'].map({'No':0, 'Yes':1, 'No internet service':2})\n",
    "    df['Contract'] = df['Contract'].map({'Month-to-month':0, 'Two year':1, 'One year':2})\n",
    "    df['Paperless Billing'] = df['Paperless Billing'].map({'No':0, 'Yes':1})\n",
    "    df['Payment Method'] = df['Payment Method'].map({'Mailed check':0, 'Electronic check':1, 'Bank transfer (automatic)':2, 'Credit card (automatic)':3})\n",
    "    cols = ['CustomerID', 'City', 'Zip Code',\n",
    "       'Lat Long', 'Latitude', 'Longitude', 'Gender', 'Senior Citizen',\n",
    "       'Partner', 'Dependents', 'Tenure Months', 'Phone Service',\n",
    "       'Multiple Lines', 'Internet Service', 'Online Security',\n",
    "       'Online Backup', 'Device Protection', 'Tech Support', 'Streaming TV',\n",
    "       'Streaming Movies', 'Contract', 'Paperless Billing', 'Payment Method',\n",
    "       'Monthly Charges', 'Total Charges', 'Churn Value']\n",
    "    df = df[cols]\n",
    "    return df\n",
    "\n"
   ]
  },
  {
   "cell_type": "code",
   "execution_count": null,
   "id": "e6504baf-1f1d-4757-ad30-74dfaf6eeea3",
   "metadata": {
    "tags": []
   },
   "outputs": [],
   "source": [
    "cleaning_fct(df)"
   ]
  },
  {
   "cell_type": "code",
   "execution_count": null,
   "id": "14993d01-b41a-4de5-97e5-6153fceb7ec3",
   "metadata": {},
   "outputs": [],
   "source": []
  },
  {
   "cell_type": "code",
   "execution_count": null,
   "id": "e5683c22-d9f0-49e6-b5ed-3a4b7a9c8862",
   "metadata": {
    "tags": []
   },
   "outputs": [],
   "source": [
    "df.info()"
   ]
  },
  {
   "cell_type": "code",
   "execution_count": null,
   "id": "f08611dc-33c7-4198-b2ed-0da7f7a1355e",
   "metadata": {
    "tags": []
   },
   "outputs": [],
   "source": [
    "df.dtypes"
   ]
  },
  {
   "cell_type": "code",
   "execution_count": null,
   "id": "90e4f1c6-6c7e-4995-94cc-c9d346997ecd",
   "metadata": {
    "tags": []
   },
   "outputs": [],
   "source": [
    "df.columns"
   ]
  },
  {
   "cell_type": "code",
   "execution_count": null,
   "id": "f249ad6b-eec1-449a-8a09-c6948141ee89",
   "metadata": {},
   "outputs": [],
   "source": []
  },
  {
   "cell_type": "code",
   "execution_count": null,
   "id": "608ea711-460a-46b5-8f3a-6b0c93359a95",
   "metadata": {},
   "outputs": [],
   "source": []
  },
  {
   "cell_type": "code",
   "execution_count": null,
   "id": "d7ad628c-64a5-4c28-930c-f0283ee5149e",
   "metadata": {},
   "outputs": [],
   "source": []
  }
 ],
 "metadata": {
  "kernelspec": {
   "display_name": "Python 3 (ipykernel)",
   "language": "python",
   "name": "python3"
  },
  "language_info": {
   "codemirror_mode": {
    "name": "ipython",
    "version": 3
   },
   "file_extension": ".py",
   "mimetype": "text/x-python",
   "name": "python",
   "nbconvert_exporter": "python",
   "pygments_lexer": "ipython3",
   "version": "3.11.7"
  }
 },
 "nbformat": 4,
 "nbformat_minor": 5
}
